{
 "cells": [
  {
   "cell_type": "code",
   "execution_count": 67,
   "metadata": {},
   "outputs": [],
   "source": [
    "import os\n",
    "import time\n",
    "import pandas as pd\n",
    "from itertools import combinations\n",
    "from collections import defaultdict"
   ]
  },
  {
   "cell_type": "code",
   "execution_count": 69,
   "metadata": {},
   "outputs": [
    {
     "name": "stdout",
     "output_type": "stream",
     "text": [
      "mached indices script initiated..... And Object!  <__main__.GenerateIndices object at 0x0000000008024BC8>\n",
      "Input data............  [('username1', 'phone_number1', 'email1'), ('usernameX', 'phone_number1', 'emailX'), ('usernameZ', 'phone_numberZ', 'email1Z'), ('usernameY', 'phone_numberY', 'emailX'), ('usernameA', 'phone_number1', 'emailB'), ('usernameB', 'phone_numberB', 'emailBX'), ('usernameC', 'phone_numberA', 'emailZ1')]\n",
      "Pairs data object as dictonary.....!  defaultdict(<class 'list'>, {'username1': [0], 'phone_number1': [0, 1, 4], 'email1': [0], 'usernameX': [1], 'emailX': [1, 3], 'usernameZ': [2], 'phone_numberZ': [2], 'email1Z': [2], 'usernameY': [3], 'phone_numberY': [3], 'usernameA': [4], 'emailB': [4], 'usernameB': [5], 'phone_numberB': [5], 'emailBX': [5], 'usernameC': [6], 'phone_numberA': [6], 'emailZ1': [6]})\n",
      " \n",
      "***************************** \n",
      " Mached inidces sublit: [0, 1, 3, 4] \n",
      " Not mached indices sublist: [2, 5, 6]\n",
      " Expected Return list: [[0, 1, 3, 4], [2, 5, 6]] \n",
      "*****************************\n",
      " \n",
      " \n",
      " *** Time taken for the execution in seconds: 0.01800084114074707  ***\n"
     ]
    }
   ],
   "source": [
    "strt_time = time.time()\n",
    "# data = [\n",
    "# (\"username1\",\"phone_number1\", \"email1\"),\n",
    "# (\"usernameX\",\"phone_number1\", \"emailX\"),\n",
    "# (\"usernameZ\",\"phone_numberZ\", \"email1Z\"),\n",
    "# (\"usernameY\",\"phone_numberY\", \"emailX\"),\n",
    "# ]\n",
    "\n",
    "data = [\n",
    "(\"username1\",\"phone_number1\", \"email1\"),\n",
    "(\"usernameX\",\"phone_number1\", \"emailX\"),\n",
    "(\"usernameZ\",\"phone_numberZ\", \"email1Z\"),\n",
    "(\"usernameY\",\"phone_numberY\", \"emailX\"),\n",
    "(\"usernameA\",\"phone_number1\", \"emailB\"),\n",
    "(\"usernameB\",\"phone_numberB\", \"emailBX\"),\n",
    "(\"usernameC\",\"phone_numberA\", \"emailZ1\"),\n",
    "]\n",
    "\n",
    "#------------------------------------------------\n",
    "# GenerateIndices class contain with consructor and matchedIndices method\n",
    "# we are initializing data veriable throhg clss object\n",
    "#------------------------------------------------\n",
    "class GenerateIndices():\n",
    "    def __init__(self,data):\n",
    "        self.input_data = data\n",
    "        \n",
    "    #--------------------------------------------------\n",
    "    # Method with only have self parameter  \n",
    "    # It return the mached indices sublist and non mached indices sublist as in singlelist\n",
    "    #--------------------------------------------------\n",
    "    def matchedIndices(self):\n",
    "        print(\"mached indices script initiated..... And Object! \",self)\n",
    "        print(\"Input data............ \",self.input_data)\n",
    "        pairs_data = dict()\n",
    "        pairs_data= defaultdict(list)\n",
    "        # iterating data list to get subsets and indexes from it\n",
    "        for id_index, sub_set in enumerate(self.input_data):\n",
    "            #iterating subset and append to dictonaly along with keys\n",
    "            for i in sub_set:\n",
    "                pairs_data[i].append(id_index)\n",
    "\n",
    "        matched_indexes = []\n",
    "        not_matched_indexes = []\n",
    "        print(\"Pairs data object as dictonary.....! \",pairs_data)\n",
    "        # Iterating dictonary of pairs data to get key values\n",
    "        for key,val in pairs_data.items():\n",
    "            #print(\"Key Value: \",key,val)\n",
    "            # if val of length > 1 , extend list with values \n",
    "            if len(val) > 1:\n",
    "                matched_indexes.extend(val)\n",
    "            else:\n",
    "                not_matched_indexes.extend(val)\n",
    "\n",
    "        # make unique indexes of not_matched_indexes and matched_indexes\n",
    "        matched_indexes = set(matched_indexes)\n",
    "        not_matched_indexes = set(not_matched_indexes)\n",
    "        not_matched_indexes = not_matched_indexes.difference(matched_indexes)\n",
    "\n",
    "        #print (\"mached aand not machhed indexes: \",matched_indexes,not_matched_indexes)\n",
    "        #print(\"Intersection values............\",list(not_matched_indexes))\n",
    "        print(\" \\n***************************** \\n Mached inidces sublit: {} \\n Not mached indices sublist: {}\".format(list(matched_indexes),list(not_matched_indexes)))\n",
    "        print(\" Expected Return list: {} \\n*****************************\".format([list(matched_indexes),list(not_matched_indexes)]))\n",
    "        \n",
    "        print(\" \\n \\n *** Time taken for the execution in seconds: {}  ***\".format(time.time() - strt_time))\n",
    "\n",
    "# Class object creat on and passing data as parameter\n",
    "# And calling object method\n",
    "indices_object = GenerateIndices(data)\n",
    "indices_object.matchedIndices()\n",
    "\n",
    "\n"
   ]
  },
  {
   "cell_type": "code",
   "execution_count": null,
   "metadata": {},
   "outputs": [],
   "source": []
  }
 ],
 "metadata": {
  "kernelspec": {
   "display_name": "Python 3",
   "language": "python",
   "name": "python3"
  },
  "language_info": {
   "codemirror_mode": {
    "name": "ipython",
    "version": 3
   },
   "file_extension": ".py",
   "mimetype": "text/x-python",
   "name": "python",
   "nbconvert_exporter": "python",
   "pygments_lexer": "ipython3",
   "version": "3.7.6"
  }
 },
 "nbformat": 4,
 "nbformat_minor": 4
}
