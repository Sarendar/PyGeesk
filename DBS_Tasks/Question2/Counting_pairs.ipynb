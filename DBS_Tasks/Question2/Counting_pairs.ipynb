{
 "cells": [
  {
   "cell_type": "code",
   "execution_count": 2,
   "metadata": {},
   "outputs": [],
   "source": [
    "import os\n",
    "import configparser\n",
    "import time"
   ]
  },
  {
   "cell_type": "code",
   "execution_count": 3,
   "metadata": {},
   "outputs": [
    {
     "name": "stdout",
     "output_type": "stream",
     "text": [
      "Counting pair initiated....!\n",
      "Given Input List is: [1, 2, 3, 4, 5] with difference 1 \n",
      "Counting pair values are: {(1, 2), (3, 4), (2, 3), (4, 5)}, for the difference: 1 \n",
      "And number of pairs is: 4\n",
      " *** Time taken for the execution in seconds: 0.0020003318786621094  ***\n"
     ]
    }
   ],
   "source": [
    "#----------------------------------------------\n",
    "# Counting_pairs() is function has with option parameter\n",
    "# Return counting pairs from list\n",
    "#------------------------------------------------\n",
    "def Counting_pairs(options):\n",
    "    list_values = options['input_list'].split(',')\n",
    "    # converting string values to integer in list\n",
    "    list_values =list( map(int ,list_values))\n",
    "    diff = int(options['k'])\n",
    "    print(\"Given Input List is: {} with difference {} \".format(list_values,diff))\n",
    "    \n",
    "    # retrn pairs if difference is 0 or otherwise else\n",
    "    if diff == 0:\n",
    "        ret_val = {(x,(x+diff)) for x in list_values if list_values.count(x) > 1}\n",
    "    else:\n",
    "        ret_val = {(i,(i+diff)) for i in list_values if (i+diff) in list_values}\n",
    "        \n",
    "    print(\"Counting pair values are: {}, for the difference: {} \\nAnd number of pairs is: {}\".format(ret_val,diff,len(ret_val)))\n",
    "\n",
    "if __name__ == \"__main__\":\n",
    "    print(\"Counting pair initiated....!\")\n",
    "    strt_time = time.time()\n",
    "    config_obj = configparser.ConfigParser()\n",
    "    ### Reading config file and getting values from section\n",
    "    config_obj.read(os.path.join(\"config.ini\"))\n",
    "    config_values = config_obj[\"Counting_Pairs\"]\n",
    "    #print(\"Configuration Object....!\",config_values)\n",
    "    \n",
    "    #calling  function\n",
    "    Counting_pairs(config_values)\n",
    "    print(\" *** Time taken for the execution in seconds: {}  ***\".format(time.time() - strt_time))\n",
    "    \n",
    "    "
   ]
  },
  {
   "cell_type": "code",
   "execution_count": null,
   "metadata": {},
   "outputs": [],
   "source": []
  },
  {
   "cell_type": "code",
   "execution_count": null,
   "metadata": {},
   "outputs": [],
   "source": []
  },
  {
   "cell_type": "code",
   "execution_count": null,
   "metadata": {},
   "outputs": [],
   "source": []
  }
 ],
 "metadata": {
  "kernelspec": {
   "display_name": "Python 3",
   "language": "python",
   "name": "python3"
  },
  "language_info": {
   "codemirror_mode": {
    "name": "ipython",
    "version": 3
   },
   "file_extension": ".py",
   "mimetype": "text/x-python",
   "name": "python",
   "nbconvert_exporter": "python",
   "pygments_lexer": "ipython3",
   "version": "3.7.6"
  }
 },
 "nbformat": 4,
 "nbformat_minor": 4
}
